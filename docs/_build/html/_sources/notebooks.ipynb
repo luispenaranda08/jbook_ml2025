{
 "cells": [
  {
   "cell_type": "markdown",
   "metadata": {},
   "source": [
    "# Predicción de Movimiento en el Precio de Acciones con Regresión Logística\n",
    "\n",
    "Regresión Logística aplicada al conjunto de datos el cual contiene información histórica del mercado de valores extraída de Yahoo Finance, abarcando un período de cinco años. Incluye registros diarios del desempeño bursátil de las 500 principales compañías según su capitalización de mercado."
   ]
  },
  {
   "cell_type": "code",
   "execution_count": 1,
   "metadata": {},
   "outputs": [
    {
     "name": "stdout",
     "output_type": "stream",
     "text": [
      "\n",
      "Tipos de datos después de limpiar:\n",
      "Open      float64\n",
      "High      float64\n",
      "Low       float64\n",
      "Close     float64\n",
      "Volume      int64\n",
      "dtype: object\n",
      "\n",
      "📈 Accuracy: 0.5377094856252022\n",
      "\n",
      "📋 Reporte de clasificación:\n",
      "              precision    recall  f1-score   support\n",
      "\n",
      "           0       0.55      0.31      0.40     58824\n",
      "           1       0.53      0.75      0.62     61769\n",
      "\n",
      "    accuracy                           0.54    120593\n",
      "   macro avg       0.54      0.53      0.51    120593\n",
      "weighted avg       0.54      0.54      0.51    120593\n",
      "\n",
      "\n",
      "🧪 Importancia de las variables (coeficientes):\n",
      "  Variable   Coeficiente\n",
      "3    Close -3.281570e-15\n",
      "1     High  1.192121e-15\n",
      "2      Low  1.174978e-15\n",
      "0     Open  9.763099e-16\n",
      "4   Volume  3.963794e-23\n"
     ]
    },
    {
     "name": "stderr",
     "output_type": "stream",
     "text": [
      "C:\\Users\\Luis D Peñaranda\\AppData\\Local\\Temp\\ipykernel_34012\\4083807375.py:72: UserWarning: Glyph 128269 (\\N{LEFT-POINTING MAGNIFYING GLASS}) missing from current font.\n",
      "  plt.tight_layout()\n",
      "C:\\Users\\Luis D Peñaranda\\AppData\\Roaming\\Python\\Python39\\site-packages\\IPython\\core\\pylabtools.py:152: UserWarning: Glyph 128269 (\\N{LEFT-POINTING MAGNIFYING GLASS}) missing from current font.\n",
      "  fig.canvas.print_figure(bytes_io, **kw)\n"
     ]
    },
    {
     "data": {
      "image/png": "[encoded data removed]",
      "text/plain": [
       "<Figure size 600x400 with 2 Axes>"
      ]
     },
     "metadata": {},
     "output_type": "display_data"
    }
   ],
   "source": [
    "# 📦 Cargar librerías\n",
    "import pandas as pd\n",
    "import numpy as np\n",
    "import matplotlib.pyplot as plt\n",
    "import seaborn as sns\n",
    "\n",
    "from sklearn.linear_model import LogisticRegression\n",
    "from sklearn.model_selection import train_test_split\n",
    "from sklearn.metrics import classification_report, confusion_matrix, accuracy_score\n",
    "\n",
    "# 🎨 Estilo visual\n",
    "sns.set(style=\"darkgrid\")\n",
    "\n",
    "# 📁 Cargar datos desde archivo Excel\n",
    "df = pd.read_excel(\n",
    "    r\"C:\\Machine_Learning\\jbook_ml2025\\docs\\datos\\stock_details_5_years_edit.xlsx\",\n",
    "    engine='openpyxl'\n",
    ")\n",
    "\n",
    "# 🧹 Limpiar columnas numéricas con comas como separadores de miles\n",
    "cols_to_clean = ['Open', 'High', 'Low', 'Close', 'Volume']\n",
    "for col in cols_to_clean:\n",
    "    df[col] = df[col].astype(str).str.replace(',', '')  # Elimina comas\n",
    "    df[col] = pd.to_numeric(df[col], errors='coerce')    # Convierte a numérico\n",
    "\n",
    "# ✅ Verificar tipos de datos\n",
    "print(\"\\nTipos de datos después de limpiar:\")\n",
    "print(df[cols_to_clean].dtypes)\n",
    "\n",
    "# 🧼 Eliminar filas con valores faltantes\n",
    "df = df.dropna(subset=cols_to_clean)\n",
    "\n",
    "# 🎯 Crear variable objetivo: ¿sube el precio al día siguiente?\n",
    "df[\"Target\"] = df.groupby(\"Company\")[\"Close\"].shift(-1) > df[\"Close\"]\n",
    "df[\"Target\"] = df[\"Target\"].astype(int)\n",
    "df = df.dropna(subset=[\"Target\"])\n",
    "\n",
    "# 🧠 Entrenamiento del modelo\n",
    "features = cols_to_clean\n",
    "X = df[features]\n",
    "y = df[\"Target\"]\n",
    "\n",
    "X_train, X_test, y_train, y_test = train_test_split(\n",
    "    X, y, test_size=0.2, shuffle=True, random_state=42\n",
    ")\n",
    "\n",
    "model = LogisticRegression(max_iter=1000)\n",
    "model.fit(X_train, y_train)\n",
    "\n",
    "# 📊 Evaluación del modelo\n",
    "y_pred = model.predict(X_test)\n",
    "\n",
    "print(\"\\n📈 Accuracy:\", accuracy_score(y_test, y_pred))\n",
    "print(\"\\n📋 Reporte de clasificación:\")\n",
    "print(classification_report(y_test, y_pred))\n",
    "\n",
    "# 🔍 Mostrar coeficientes del modelo\n",
    "coef_df = pd.DataFrame({\n",
    "    'Variable': features,\n",
    "    'Coeficiente': model.coef_[0]\n",
    "}).sort_values(by='Coeficiente', key=abs, ascending=False)\n",
    "\n",
    "print(\"\\n🧪 Importancia de las variables (coeficientes):\")\n",
    "print(coef_df)\n",
    "\n",
    "# 🧯 Matriz de confusión\n",
    "plt.figure(figsize=(6,4))\n",
    "sns.heatmap(confusion_matrix(y_test, y_pred), annot=True, fmt='d', cmap='Blues')\n",
    "plt.xlabel(\"Predicción\")\n",
    "plt.ylabel(\"Real\")\n",
    "plt.title(\"🔍 Matriz de Confusión\")\n",
    "plt.tight_layout()\n",
    "plt.show()\n"
   ]
  },
  {
   "cell_type": "markdown",
   "metadata": {},
   "source": [
    "## Análisis"
   ]
  },
  {
   "cell_type": "markdown",
   "metadata": {},
   "source": [
    "A partir de los resultados obtenidos, se observa que el modelo de regresión logística alcanza una precisión de 0.54, lo cual indica un desempeño apenas superior al azar. La matriz de confusión refuerza esta observación:\n",
    "\n",
    "El modelo logra identificar correctamente 46,330 casos positivos (1) y 18,514 negativos (0).\n",
    "\n",
    "Sin embargo, también se presentan errores significativos: predice incorrectamente 40,310 negativos como positivos y 15,439 positivos como negativos.\n",
    "\n",
    "Este desequilibrio muestra que el modelo tiene una alta tasa de falsos positivos, lo cual es preocupante si se desea hacer predicciones fiables sobre el comportamiento futuro de las acciones. Aunque el recall para la clase 1 es relativamente alto (0.75), la f1-score general (0.51) es baja, confirmando que el modelo no tiene una capacidad predictiva sólida en este contexto."
   ]
  },
  {
   "cell_type": "markdown",
   "metadata": {},
   "source": [
    "## Conclusión"
   ]
  },
  {
   "cell_type": "markdown",
   "metadata": {},
   "source": [
    "El modelo no es adecuado para predecir movimientos bursátiles con precisión aceptable. Este resultado sugiere que las variables utilizadas (Open, High, Low, Close, Volume, etc.) podrían no ser suficientes para capturar la complejidad del mercado financiero, o que se requiere un modelo más robusto, posiblemente no lineal, como Random Forest o redes neuronales."
   ]
  }
 ],
 "metadata": {
  "kernelspec": {
   "display_name": "ml_venv",
   "language": "python",
   "name": "python3"
  },
  "language_info": {
   "codemirror_mode": {
    "name": "ipython",
    "version": 3
   },
   "file_extension": ".py",
   "mimetype": "text/x-python",
   "name": "python",
   "nbconvert_exporter": "python",
   "pygments_lexer": "ipython3",
   "version": "3.9.23"
  },
  "widgets": {
   "application/vnd.jupyter.widget-state+json": {
    "state": {},
    "version_major": 2,
    "version_minor": 0
   }
  }
 },
 "nbformat": 4,
 "nbformat_minor": 4
}
